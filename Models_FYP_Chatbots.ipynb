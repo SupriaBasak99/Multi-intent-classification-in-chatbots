{
  "nbformat": 4,
  "nbformat_minor": 0,
  "metadata": {
    "colab": {
      "provenance": [],
      "include_colab_link": true
    },
    "kernelspec": {
      "name": "python3",
      "display_name": "Python 3"
    },
    "language_info": {
      "name": "python"
    }
  },
  "cells": [
    {
      "cell_type": "markdown",
      "metadata": {
        "id": "view-in-github",
        "colab_type": "text"
      },
      "source": [
        "<a href=\"https://colab.research.google.com/github/SupriaBasak99/Multi-intent-classification-in-chatbots/blob/main/Models_FYP_Chatbots.ipynb\" target=\"_parent\"><img src=\"https://colab.research.google.com/assets/colab-badge.svg\" alt=\"Open In Colab\"/></a>"
      ]
    },
    {
      "cell_type": "markdown",
      "source": [
        "# Importing all the libraries\n"
      ],
      "metadata": {
        "id": "9GecFhnrw9RU"
      }
    },
    {
      "cell_type": "code",
      "execution_count": null,
      "metadata": {
        "id": "jzIE0OftRQlv"
      },
      "outputs": [],
      "source": [
        "import numpy as np\n",
        "import pandas as pd\n",
        "import matplotlib.pyplot as plt\n",
        "\n",
        "from nltk.corpus import stopwords\n",
        "from nltk.tokenize import word_tokenize\n",
        "from nltk.stem.lancaster import LancasterStemmer#ip\n",
        "import nltk\n",
        "import re\n",
        "from sklearn.preprocessing import OneHotEncoder\n",
        "import matplotlib.pyplot as plt\n",
        "from keras.preprocessing.text import Tokenizer\n",
        "from keras.preprocessing.sequence import pad_sequences\n",
        "from keras.utils.np_utils import to_categorical\n",
        "from keras.models import Sequential, load_model\n",
        "from keras.layers import Dense, LSTM, Bidirectional, Embedding, Dropout, SimpleRNN, GRU\n",
        "from keras.callbacks import ModelCheckpoint"
      ]
    },
    {
      "cell_type": "code",
      "source": [
        "from sklearn.model_selection import train_test_split\n",
        "\n",
        "from sklearn.metrics import accuracy_score, roc_auc_score, f1_score"
      ],
      "metadata": {
        "id": "08QpwRXCSAIT"
      },
      "execution_count": null,
      "outputs": []
    },
    {
      "cell_type": "markdown",
      "source": [
        "# Importing ATIS Dataset"
      ],
      "metadata": {
        "id": "UdLVTIKWxPfW"
      }
    },
    {
      "cell_type": "code",
      "source": [
        "def load_dataset(filename):\n",
        "  df = pd.read_csv(filename, encoding = \"latin1\", names = [\"Intent\", \"Sentence\"])\n",
        "  print(df.head())\n",
        "  intent = df[\"Intent\"]\n",
        "  unique_intent = list(set(intent))\n",
        "  sentences = list(df[\"Sentence\"])\n",
        "  \n",
        "  return (intent, unique_intent, sentences)"
      ],
      "metadata": {
        "id": "MIwIVKnGSwxi"
      },
      "execution_count": null,
      "outputs": []
    },
    {
      "cell_type": "code",
      "source": [
        "intent, unique_intent, sentences = load_dataset(\"/content/atis_intents_train.csv\")"
      ],
      "metadata": {
        "colab": {
          "base_uri": "https://localhost:8080/"
        },
        "id": "MUrUoAxcTE9G",
        "outputId": "01c65e50-f91c-424b-e31e-f34bb650b5e3"
      },
      "execution_count": null,
      "outputs": [
        {
          "output_type": "stream",
          "name": "stdout",
          "text": [
            "             Intent                                           Sentence\n",
            "0            intent                                           sentence\n",
            "1       atis_flight   what flights are available from pittsburgh to...\n",
            "2  atis_flight_time   what is the arrival time in san francisco for...\n",
            "3      atis_airfare            cheapest airfare from tacoma to orlando\n",
            "4      atis_airfare   round trip fares from pittsburgh to philadelp...\n"
          ]
        }
      ]
    },
    {
      "cell_type": "code",
      "source": [
        "nltk.download(\"stopwords\")\n",
        "nltk.download(\"punkt\")"
      ],
      "metadata": {
        "colab": {
          "base_uri": "https://localhost:8080/"
        },
        "id": "MOk_vupNUQni",
        "outputId": "9452302c-1b48-45c4-ba07-59902a25972f"
      },
      "execution_count": null,
      "outputs": [
        {
          "output_type": "stream",
          "name": "stdout",
          "text": [
            "[nltk_data] Downloading package stopwords to /root/nltk_data...\n",
            "[nltk_data]   Unzipping corpora/stopwords.zip.\n",
            "[nltk_data] Downloading package punkt to /root/nltk_data...\n",
            "[nltk_data]   Unzipping tokenizers/punkt.zip.\n"
          ]
        },
        {
          "output_type": "execute_result",
          "data": {
            "text/plain": [
              "True"
            ]
          },
          "metadata": {},
          "execution_count": 5
        }
      ]
    },
    {
      "cell_type": "markdown",
      "source": [
        "# Performing Stemming and Data Cleaning"
      ],
      "metadata": {
        "id": "hXgqGSRRxzf1"
      }
    },
    {
      "cell_type": "code",
      "source": [],
      "metadata": {
        "id": "WvmogsQJUYZO"
      },
      "execution_count": null,
      "outputs": []
    },
    {
      "cell_type": "code",
      "source": [
        "def cleaning(sentences):\n",
        "  words = []\n",
        "  for s in sentences:\n",
        "    clean = re.sub(r'[^ a-z A-Z 0-9]', \" \", s)\n",
        "    w = word_tokenize(clean)\n",
        "    #stemming\n",
        "    words.append([i.lower() for i in w])\n",
        "    \n",
        "  return words  "
      ],
      "metadata": {
        "id": "xnk1b2CMUdad"
      },
      "execution_count": null,
      "outputs": []
    },
    {
      "cell_type": "code",
      "source": [
        "cleaned_words = cleaning(sentences)\n",
        "print(len(cleaned_words))\n",
        "print(cleaned_words[:2])  "
      ],
      "metadata": {
        "colab": {
          "base_uri": "https://localhost:8080/"
        },
        "id": "8F48xfybUnKy",
        "outputId": "a8d3437f-77ce-4220-bf18-5efff103af84"
      },
      "execution_count": null,
      "outputs": [
        {
          "output_type": "stream",
          "name": "stdout",
          "text": [
            "4834\n",
            "[['sentence'], ['what', 'flights', 'are', 'available', 'from', 'pittsburgh', 'to', 'baltimore', 'on', 'thursday', 'morning']]\n"
          ]
        }
      ]
    },
    {
      "cell_type": "markdown",
      "source": [
        "# Tokenization"
      ],
      "metadata": {
        "id": "Dem7Y4gqx8bA"
      }
    },
    {
      "cell_type": "code",
      "source": [
        "def create_tokenizer(words, filters = '!\"#$%&()*+,-./:;<=>?@[\\]^_`{|}~'):\n",
        "  token = Tokenizer(filters = filters)\n",
        "  token.fit_on_texts(words)\n",
        "  return token"
      ],
      "metadata": {
        "id": "aU3BOhULZMSS"
      },
      "execution_count": null,
      "outputs": []
    },
    {
      "cell_type": "code",
      "source": [
        "def max_length(words):\n",
        "  return(len(max(words, key = len)))"
      ],
      "metadata": {
        "id": "_HKvENNwZnoZ"
      },
      "execution_count": null,
      "outputs": []
    },
    {
      "cell_type": "code",
      "source": [
        "word_tokenizer = create_tokenizer(cleaned_words)\n",
        "word_index=word_tokenizer.word_index\n",
        "vocab_size = len(word_tokenizer.word_index) + 1\n",
        "max_length = max_length(cleaned_words)\n",
        "\n",
        "print(\"Vocab Size = %d and Maximum length = %d\" % (vocab_size, max_length))"
      ],
      "metadata": {
        "colab": {
          "base_uri": "https://localhost:8080/"
        },
        "id": "lMXG83U1ZunU",
        "outputId": "672fef14-02bb-4d44-ff00-9ae5424c4d78"
      },
      "execution_count": null,
      "outputs": [
        {
          "output_type": "stream",
          "name": "stdout",
          "text": [
            "Vocab Size = 862 and Maximum length = 48\n"
          ]
        }
      ]
    },
    {
      "cell_type": "code",
      "source": [
        "def encoding_doc(token, words):\n",
        "  return(token.texts_to_sequences(words))"
      ],
      "metadata": {
        "id": "Rja7lMbHZzFo"
      },
      "execution_count": null,
      "outputs": []
    },
    {
      "cell_type": "code",
      "source": [
        "encoded_doc = encoding_doc(word_tokenizer, cleaned_words)"
      ],
      "metadata": {
        "id": "PgcRfKdWZ3RJ"
      },
      "execution_count": null,
      "outputs": []
    },
    {
      "cell_type": "code",
      "source": [
        "def padding_doc(encoded_doc, max_length):\n",
        "  return(pad_sequences(encoded_doc, maxlen = max_length, padding = \"post\"))"
      ],
      "metadata": {
        "id": "Ek_PT8EbZ7f-"
      },
      "execution_count": null,
      "outputs": []
    },
    {
      "cell_type": "code",
      "source": [
        "padded_doc = padding_doc(encoded_doc, max_length)"
      ],
      "metadata": {
        "id": "W_ZRWxZLZ-f-"
      },
      "execution_count": null,
      "outputs": []
    },
    {
      "cell_type": "code",
      "source": [
        "padded_doc[:5]"
      ],
      "metadata": {
        "colab": {
          "base_uri": "https://localhost:8080/"
        },
        "id": "EVnaZ-dmaBno",
        "outputId": "27ac3359-394d-4858-c6da-4bf22e3d5b3f"
      },
      "execution_count": null,
      "outputs": [
        {
          "output_type": "execute_result",
          "data": {
            "text/plain": [
              "array([[603,   0,   0,   0,   0,   0,   0,   0,   0,   0,   0,   0,   0,\n",
              "          0,   0,   0,   0,   0,   0,   0,   0,   0,   0,   0,   0,   0,\n",
              "          0,   0,   0,   0,   0,   0,   0,   0,   0,   0,   0,   0,   0,\n",
              "          0,   0,   0,   0,   0,   0,   0,   0,   0],\n",
              "       [  6,   3,  26,  57,   2,  19,   1,  21,   5,  75,  35,   0,   0,\n",
              "          0,   0,   0,   0,   0,   0,   0,   0,   0,   0,   0,   0,   0,\n",
              "          0,   0,   0,   0,   0,   0,   0,   0,   0,   0,   0,   0,   0,\n",
              "          0,   0,   0,   0,   0,   0,   0,   0,   0],\n",
              "       [  6,  22,   4, 397, 182,  16,  11,  15,  38,   4, 510,  84,   8,\n",
              "         33,  32,   0,   0,   0,   0,   0,   0,   0,   0,   0,   0,   0,\n",
              "          0,   0,   0,   0,   0,   0,   0,   0,   0,   0,   0,   0,   0,\n",
              "          0,   0,   0,   0,   0,   0,   0,   0,   0],\n",
              "       [ 51, 276,   2, 180,   1, 126,   0,   0,   0,   0,   0,   0,   0,\n",
              "          0,   0,   0,   0,   0,   0,   0,   0,   0,   0,   0,   0,   0,\n",
              "          0,   0,   0,   0,   0,   0,   0,   0,   0,   0,   0,   0,   0,\n",
              "          0,   0,   0,   0,   0,   0,   0,   0,   0],\n",
              "       [ 55,  49,  67,   2,  19,   1,  24, 316, 227, 170,   0,   0,   0,\n",
              "          0,   0,   0,   0,   0,   0,   0,   0,   0,   0,   0,   0,   0,\n",
              "          0,   0,   0,   0,   0,   0,   0,   0,   0,   0,   0,   0,   0,\n",
              "          0,   0,   0,   0,   0,   0,   0,   0,   0]], dtype=int32)"
            ]
          },
          "metadata": {},
          "execution_count": 15
        }
      ]
    },
    {
      "cell_type": "code",
      "source": [
        "print(\"Shape of padded docs = \",padded_doc.shape)"
      ],
      "metadata": {
        "colab": {
          "base_uri": "https://localhost:8080/"
        },
        "id": "e6JQjdfOaGsN",
        "outputId": "3e2a74ad-a814-472b-d69c-48ab8fafbb20"
      },
      "execution_count": null,
      "outputs": [
        {
          "output_type": "stream",
          "name": "stdout",
          "text": [
            "Shape of padded docs =  (4834, 48)\n"
          ]
        }
      ]
    },
    {
      "cell_type": "code",
      "source": [
        "output_tokenizer = create_tokenizer(unique_intent, filters = '!\"#$%&()*+,-/:;<=>?@[\\]^`{|}~')\n"
      ],
      "metadata": {
        "id": "is23duvAaI4H"
      },
      "execution_count": null,
      "outputs": []
    },
    {
      "cell_type": "code",
      "source": [
        "output_tokenizer.word_index"
      ],
      "metadata": {
        "colab": {
          "base_uri": "https://localhost:8080/"
        },
        "id": "BCTuyJ_WaRbv",
        "outputId": "c1c6e287-da14-4645-d835-cb82d1807fce"
      },
      "execution_count": null,
      "outputs": [
        {
          "output_type": "execute_result",
          "data": {
            "text/plain": [
              "{'atis_abbreviation': 4,\n",
              " 'atis_aircraft': 7,\n",
              " 'atis_airfare': 5,\n",
              " 'atis_airline': 1,\n",
              " 'atis_flight': 6,\n",
              " 'atis_flight_time': 9,\n",
              " 'atis_ground_service': 2,\n",
              " 'atis_quantity': 3,\n",
              " 'intent': 8}"
            ]
          },
          "metadata": {},
          "execution_count": 18
        }
      ]
    },
    {
      "cell_type": "code",
      "source": [
        "encoded_output = encoding_doc(output_tokenizer, intent)"
      ],
      "metadata": {
        "id": "R9I4R87laVUM"
      },
      "execution_count": null,
      "outputs": []
    },
    {
      "cell_type": "code",
      "source": [
        "encoded_output = np.array(encoded_output).reshape(len(encoded_output), 1)"
      ],
      "metadata": {
        "id": "XTUAUCiWaY28"
      },
      "execution_count": null,
      "outputs": []
    },
    {
      "cell_type": "code",
      "source": [
        "encoded_output[:5]"
      ],
      "metadata": {
        "colab": {
          "base_uri": "https://localhost:8080/"
        },
        "id": "D7N7bIhRabw4",
        "outputId": "eefb05dd-b0b7-43d4-a97e-41abda04bcfb"
      },
      "execution_count": null,
      "outputs": [
        {
          "output_type": "execute_result",
          "data": {
            "text/plain": [
              "array([[8],\n",
              "       [6],\n",
              "       [9],\n",
              "       [5],\n",
              "       [5]])"
            ]
          },
          "metadata": {},
          "execution_count": 21
        }
      ]
    },
    {
      "cell_type": "code",
      "source": [
        "def one_hot(encode):\n",
        "  o = OneHotEncoder(sparse = False)\n",
        "  return(o.fit_transform(encode))"
      ],
      "metadata": {
        "id": "nrm5oquGagyc"
      },
      "execution_count": null,
      "outputs": []
    },
    {
      "cell_type": "code",
      "source": [
        "output_one_hot = one_hot(encoded_output)"
      ],
      "metadata": {
        "id": "OCD1g8_Rakbi"
      },
      "execution_count": null,
      "outputs": []
    },
    {
      "cell_type": "code",
      "source": [
        "output_one_hot.shape"
      ],
      "metadata": {
        "colab": {
          "base_uri": "https://localhost:8080/"
        },
        "id": "t0knn5YAalbn",
        "outputId": "01f94430-220b-4ac0-d4d9-4648fdde043b"
      },
      "execution_count": null,
      "outputs": [
        {
          "output_type": "execute_result",
          "data": {
            "text/plain": [
              "(4834, 8)"
            ]
          },
          "metadata": {},
          "execution_count": 175
        }
      ]
    },
    {
      "cell_type": "markdown",
      "source": [
        "# Splitting data into Training Data and Testing Data"
      ],
      "metadata": {
        "id": "TqwdhBGXyNi6"
      }
    },
    {
      "cell_type": "code",
      "source": [
        "from sklearn.model_selection import train_test_split\n",
        "train_X, val_X, train_Y, val_Y = train_test_split(padded_doc, output_one_hot, shuffle = True, test_size = 0.2)\n",
        "print(\"Shape of train_X = %s and train_Y = %s\" % (train_X.shape, train_Y.shape))\n",
        "print(\"Shape of val_X = %s and val_Y = %s\" % (val_X.shape, val_Y.shape))"
      ],
      "metadata": {
        "id": "c71zNp-ean0t",
        "colab": {
          "base_uri": "https://localhost:8080/"
        },
        "outputId": "b3c953ca-ee01-42e0-a0c0-3c50078c9790"
      },
      "execution_count": null,
      "outputs": [
        {
          "output_type": "stream",
          "name": "stdout",
          "text": [
            "Shape of train_X = (3867, 48) and train_Y = (3867, 8)\n",
            "Shape of val_X = (967, 48) and val_Y = (967, 8)\n"
          ]
        }
      ]
    },
    {
      "cell_type": "markdown",
      "source": [
        "# BiLSTM"
      ],
      "metadata": {
        "id": "2UVaOq9OySuP"
      }
    },
    {
      "cell_type": "markdown",
      "source": [
        "Bilstm:\n",
        "Then we implemented the bilstm model. The main difference between lstm model and gru is the gates. Lstm has 3gates - input, output and forget gates whereas gru model has two gates. Bilstm are an extention of traditional lstms that can improve model performance on sequence classification problems. Where all time_steps of the input sequence are available, bilstm train two instead of one lstms on the input sequence."
      ],
      "metadata": {
        "id": "l1BZwVJtFKCP"
      }
    },
    {
      "cell_type": "code",
      "source": [
        "from keras.initializers import Constant\n",
        "def create_model_bilstm(vocab_size, max_length):\n",
        "  model = Sequential()\n",
        "  #model.add(Embedding(vocab_size, embedded_dim, embeddings_initializer=Constant(embedded_matrix),input_length = max_length, trainable = False))\n",
        "  #model.add(Embedding(vocab_size, embedded_dim, input_length = max_length, weights=[embedding_matrix],trainable = False))\n",
        "  model.add(Embedding(vocab_size, 128,input_length = max_length, trainable = True))\n",
        "  model.add(Bidirectional(LSTM(128)))\n",
        "  model.add(Dense(32, activation = \"relu\"))\n",
        "  model.add(Dropout(0.5))\n",
        "  model.add(Dense(8, activation = \"softmax\"))  \n",
        "  return model"
      ],
      "metadata": {
        "id": "VV1k7rI67A62"
      },
      "execution_count": null,
      "outputs": []
    },
    {
      "cell_type": "markdown",
      "source": [
        "# GRU"
      ],
      "metadata": {
        "id": "Ftu7YNDAyXyf"
      }
    },
    {
      "cell_type": "markdown",
      "source": [
        "GRU:\n",
        "Gru is an improved version of the RNN model as it is more efficient. The same embedding vectors and it has 2 gates- reset and update. It’s a 3D tensor of shape including batch size, time_steps and units(where units corresponds to the units argument passed to the layers constructor). We have replaced the simple RNN layer with a bidirectional GRU layer with the same number of units. "
      ],
      "metadata": {
        "id": "mqge0OLVFwVc"
      }
    },
    {
      "cell_type": "code",
      "source": [
        "def create_model_gru(vocab_size, max_length):\n",
        "  model = Sequential()\n",
        "  #model.add(Embedding(vocab_size, embedded_dim,embeddings_initializer=Constant(embedded_matrix), input_length = max_length, trainable = False))\n",
        "  model.add(Embedding(vocab_size, 128,input_length = max_length, trainable = True))\n",
        "  model.add(GRU(128))\n",
        "  model.add(Dense(32, activation = \"relu\"))\n",
        "  model.add(Dropout(0.5))\n",
        "  model.add(Dense(9, activation = \"softmax\"))\n",
        "  \n",
        "  return model"
      ],
      "metadata": {
        "id": "PmNNH6SUkTCn"
      },
      "execution_count": null,
      "outputs": []
    },
    {
      "cell_type": "markdown",
      "source": [
        "# Simple RNN"
      ],
      "metadata": {
        "id": "l9Wr2jEu7UQ8"
      }
    },
    {
      "cell_type": "markdown",
      "source": [
        "Simple RNN:\n",
        "First we take simple rnn which is really good for sequential data. And have internal memory so they can remember the input from\n",
        "Previous layers. In this model, the first layer is the embedding layer where sentences will be represented as max_length by embedding_dim vectors .The next layer is the simple RNN layer of 128 size . The next layer is the dense layer which is the simple layer of neurons where each neuron receives input from all the neurons of the previous layer. We have used recitified linear unit activation to prevent exponential growth in computation required to operate the neural network and softmax activation function to predict multinomial probability distribution which is a function of output layer. \n",
        "There is dropout layer to prevent over fitting on the training data. If they aren't present, the first batch of training samples influences the learning in a disproportionately high manner."
      ],
      "metadata": {
        "id": "g7epaDug0EE2"
      }
    },
    {
      "cell_type": "code",
      "source": [
        "def create_model_simple_rnn(vocab_size, max_length):\n",
        "  model = Sequential()\n",
        "  #model.add(Embedding(vocab_size, embedded_dim,embeddings_initializer=Constant(embedded_matrix), input_length = max_length, trainable = False))\n",
        "  model.add(Embedding(vocab_size, 128,input_length = max_length, trainable = True))\n",
        "  model.add(SimpleRNN(128))\n",
        "  model.add(Dense(32, activation = \"relu\"))\n",
        "  model.add(Dropout(0.5))\n",
        "  model.add(Dense(9, activation = \"softmax\"))\n",
        "  \n",
        "  return model"
      ],
      "metadata": {
        "id": "XRFKXzek7Qsf"
      },
      "execution_count": null,
      "outputs": []
    },
    {
      "cell_type": "code",
      "source": [
        "model = create_model_bilstm(vocab_size, max_length)\n",
        "\n",
        "model.compile(loss = \"categorical_crossentropy\", optimizer = \"adam\", metrics = [\"accuracy\"])\n",
        "model.summary()"
      ],
      "metadata": {
        "colab": {
          "base_uri": "https://localhost:8080/"
        },
        "id": "N3Jn9hQ27j56",
        "outputId": "9416f81e-a91b-430d-a0f4-711e8e826036"
      },
      "execution_count": null,
      "outputs": [
        {
          "output_type": "stream",
          "name": "stdout",
          "text": [
            "Model: \"sequential_7\"\n",
            "_________________________________________________________________\n",
            " Layer (type)                Output Shape              Param #   \n",
            "=================================================================\n",
            " embedding_7 (Embedding)     (None, 48, 128)           110336    \n",
            "                                                                 \n",
            " bidirectional_7 (Bidirectio  (None, 256)              263168    \n",
            " nal)                                                            \n",
            "                                                                 \n",
            " dense_14 (Dense)            (None, 32)                8224      \n",
            "                                                                 \n",
            " dropout_7 (Dropout)         (None, 32)                0         \n",
            "                                                                 \n",
            " dense_15 (Dense)            (None, 8)                 264       \n",
            "                                                                 \n",
            "=================================================================\n",
            "Total params: 381,992\n",
            "Trainable params: 381,992\n",
            "Non-trainable params: 0\n",
            "_________________________________________________________________\n"
          ]
        }
      ]
    },
    {
      "cell_type": "code",
      "source": [
        "#model = create_model_simple_rnn(vocab_size, max_length)\n",
        "\n",
        "model.compile(loss = \"categorical_crossentropy\", optimizer = \"adam\", metrics = [\"accuracy\"])\n",
        "model.summary()"
      ],
      "metadata": {
        "id": "tles75_P63BY",
        "outputId": "264b9274-7d56-4ecc-df2f-187e7e802c6f",
        "colab": {
          "base_uri": "https://localhost:8080/"
        }
      },
      "execution_count": null,
      "outputs": [
        {
          "output_type": "stream",
          "name": "stdout",
          "text": [
            "Model: \"sequential_7\"\n",
            "_________________________________________________________________\n",
            " Layer (type)                Output Shape              Param #   \n",
            "=================================================================\n",
            " embedding_7 (Embedding)     (None, 48, 128)           110336    \n",
            "                                                                 \n",
            " bidirectional_7 (Bidirectio  (None, 256)              263168    \n",
            " nal)                                                            \n",
            "                                                                 \n",
            " dense_14 (Dense)            (None, 32)                8224      \n",
            "                                                                 \n",
            " dropout_7 (Dropout)         (None, 32)                0         \n",
            "                                                                 \n",
            " dense_15 (Dense)            (None, 8)                 264       \n",
            "                                                                 \n",
            "=================================================================\n",
            "Total params: 381,992\n",
            "Trainable params: 381,992\n",
            "Non-trainable params: 0\n",
            "_________________________________________________________________\n"
          ]
        }
      ]
    },
    {
      "cell_type": "code",
      "source": [
        "print(vocab_size)"
      ],
      "metadata": {
        "colab": {
          "base_uri": "https://localhost:8080/"
        },
        "id": "Cq1GK7wT_Gx7",
        "outputId": "70f92e41-9987-4676-d02e-7ea8732944b4"
      },
      "execution_count": null,
      "outputs": [
        {
          "output_type": "stream",
          "name": "stdout",
          "text": [
            "862\n"
          ]
        }
      ]
    },
    {
      "cell_type": "code",
      "source": [
        "filename = 'model.h5'\n",
        "checkpoint = ModelCheckpoint(filename, monitor='val_loss', verbose=1, save_best_only=True, mode='min')\n",
        "\n",
        "history = model.fit(train_X, train_Y, epochs = 5, batch_size = 128, validation_data = (val_X, val_Y), callbacks = [checkpoint])\n",
        "print(history.history.keys())\n",
        "\n",
        "# summarize history for accuracy\n",
        "model_name = \"lstm\"\n",
        "plt.plot(history.history['accuracy'])\n",
        "plt.plot(history.history['val_accuracy'])\n",
        "plt.title('Model Accuracy')\n",
        "plt.ylabel('accuracy')\n",
        "plt.xlabel('epoch')\n",
        "plt.legend(['train', 'test'], loc='upper left')\n",
        "plt.savefig(model_name + '_accuracy.png')\n",
        "plt.show()\n",
        "# summarize history for loss\n",
        "plt.plot(history.history['loss'])\n",
        "plt.plot(history.history['val_loss'])\n",
        "plt.title('Model Loss')\n",
        "plt.ylabel('loss')\n",
        "plt.xlabel('epoch')\n",
        "plt.legend(['train', 'test'], loc='upper left')\n",
        "plt.savefig(model_name + '_loss.png')\n",
        "plt.show()"
      ],
      "metadata": {
        "colab": {
          "base_uri": "https://localhost:8080/",
          "height": 957
        },
        "id": "HBu1OKRG7xnp",
        "outputId": "15a4909d-d4db-4f08-cb20-065860a3a321"
      },
      "execution_count": null,
      "outputs": [
        {
          "output_type": "stream",
          "name": "stdout",
          "text": [
            "Epoch 1/5\n",
            "31/31 [==============================] - ETA: 0s - loss: 1.3196 - accuracy: 0.7192\n",
            "Epoch 1: val_loss improved from inf to 0.93702, saving model to model.h5\n",
            "31/31 [==============================] - 17s 413ms/step - loss: 1.3196 - accuracy: 0.7192 - val_loss: 0.9370 - val_accuracy: 0.7487\n",
            "Epoch 2/5\n",
            "31/31 [==============================] - ETA: 0s - loss: 0.8383 - accuracy: 0.7665\n",
            "Epoch 2: val_loss improved from 0.93702 to 0.63343, saving model to model.h5\n",
            "31/31 [==============================] - 12s 372ms/step - loss: 0.8383 - accuracy: 0.7665 - val_loss: 0.6334 - val_accuracy: 0.7963\n",
            "Epoch 3/5\n",
            "31/31 [==============================] - ETA: 0s - loss: 0.5717 - accuracy: 0.8306\n",
            "Epoch 3: val_loss improved from 0.63343 to 0.56246, saving model to model.h5\n",
            "31/31 [==============================] - 12s 373ms/step - loss: 0.5717 - accuracy: 0.8306 - val_loss: 0.5625 - val_accuracy: 0.8459\n",
            "Epoch 4/5\n",
            "31/31 [==============================] - ETA: 0s - loss: 0.4357 - accuracy: 0.8769\n",
            "Epoch 4: val_loss improved from 0.56246 to 0.41292, saving model to model.h5\n",
            "31/31 [==============================] - 12s 377ms/step - loss: 0.4357 - accuracy: 0.8769 - val_loss: 0.4129 - val_accuracy: 0.8738\n",
            "Epoch 5/5\n",
            "31/31 [==============================] - ETA: 0s - loss: 0.3297 - accuracy: 0.9082\n",
            "Epoch 5: val_loss improved from 0.41292 to 0.29421, saving model to model.h5\n",
            "31/31 [==============================] - 12s 373ms/step - loss: 0.3297 - accuracy: 0.9082 - val_loss: 0.2942 - val_accuracy: 0.9193\n",
            "dict_keys(['loss', 'accuracy', 'val_loss', 'val_accuracy'])\n"
          ]
        },
        {
          "output_type": "display_data",
          "data": {
            "text/plain": [
              "<Figure size 432x288 with 1 Axes>"
            ],
            "image/png": "[encoded data removed]"
          },
          "metadata": {
            "needs_background": "light"
          }
        },
        {
          "output_type": "display_data",
          "data": {
            "text/plain": [
              "<Figure size 432x288 with 1 Axes>"
            ],
            "image/png": "[encoded data removed]"
          },
          "metadata": {
            "needs_background": "light"
          }
        }
      ]
    },
    {
      "cell_type": "markdown",
      "source": [
        "Accuracy is the ratio of correct predictions divided by the total number of instances present in the dataset. Which is TP+TN/TP+TN+FP+FN.\n",
        "And F1 score is weighted avg of precision and recall, 2*TP/ (2*TP+FP+FN)\n",
        "We get highest Score for Micro f1 score as it weighs each sample equally, and the lowest we got for Macro F1 as it weughs each class equally but wiothout considering the proportion for each label in the dataset. We have weighted F1 score in between which weighs each class equally with considering the proportion for each label in the dataset. After experimenting with simple RNN before GRU. We have got our best score with BIlstm."
      ],
      "metadata": {
        "id": "z2YxQSBmGQrw"
      }
    },
    {
      "cell_type": "code",
      "source": [
        "preds = model.predict(val_X)\n",
        "\n",
        "score = accuracy_score(np.argmax(val_Y, axis = 1), np.argmax(preds, axis=1))\n",
        "print(\"Accuracy: \", score)\n",
        "f1 = f1_score(np.argmax(val_Y, axis = 1), np.argmax(preds, axis=1), average='macro')\n",
        "print(\"Macro F1 Score:\", f1)\n",
        "f1 = f1_score(np.argmax(val_Y, axis = 1), np.argmax(preds, axis=1), average='micro')\n",
        "print(\"Micro F1 Score:\", f1)\n",
        "f1 = f1_score(np.argmax(val_Y, axis = 1), np.argmax(preds, axis=1), average='weighted')\n",
        "print(\"Weighted F1 Score:\", f1, \"\\n\")\n",
        "# precis = precision_score(np.argmax(val_Y, axis = 1), np.argmax(preds, axis=1),average= 'weighted')\n",
        "# print(\"Precision:\", precis)\n",
        "# recal = recall_score(np.argmax(val_Y, axis = 1), np.argmax(preds, axis=1),average='weighted')\n",
        "# print(\"Recall:\", recal, \"\\n\")"
      ],
      "metadata": {
        "colab": {
          "base_uri": "https://localhost:8080/"
        },
        "id": "5Ju1xZdt710-",
        "outputId": "541c0057-1c4b-47e0-9418-52bf63aa1af9"
      },
      "execution_count": null,
      "outputs": [
        {
          "output_type": "stream",
          "name": "stdout",
          "text": [
            "Accuracy:  0.9193381592554292\n",
            "Macro F1 Score: 0.5136966591036434\n",
            "Micro F1 Score: 0.9193381592554292\n",
            "Weighted F1 Score: 0.9000209590620052 \n",
            "\n"
          ]
        }
      ]
    },
    {
      "cell_type": "code",
      "source": [
        "######--random forest,svm"
      ],
      "metadata": {
        "id": "XBW63PXAADVG"
      },
      "execution_count": null,
      "outputs": []
    },
    {
      "cell_type": "code",
      "source": [
        "def get_final_output(pred, classes):\n",
        "  predictions = pred[0]\n",
        " \n",
        "  classes = np.array(classes)\n",
        "  ids = np.argsort(-predictions)\n",
        "  classes = classes[ids]\n",
        "  predictions = -np.sort(-predictions)\n",
        " \n",
        "  for i in range(pred.shape[1]):\n",
        "    print(\"%s has confidence = %s\" % (classes[i], (predictions[i])))"
      ],
      "metadata": {
        "id": "pdiDI5QL5seh"
      },
      "execution_count": null,
      "outputs": []
    },
    {
      "cell_type": "code",
      "source": [
        "def predictions(text):\n",
        "  global output\n",
        "  clean = re.sub(r'[^ a-z A-Z 0-9]', \" \", text)\n",
        "  test_word = word_tokenize(clean)\n",
        "  test_word = [w.lower() for w in test_word]\n",
        "  test_ls = word_tokenizer.texts_to_sequences(test_word)\n",
        "  print(test_word)\n",
        "    #Check for unknown words\n",
        "  if [] in test_ls:\n",
        "    test_ls = list(filter(None, test_ls))\n",
        "  test_ls = np.array(test_ls).reshape(1, len(test_ls))\n",
        "  x = padding_doc(test_ls, max_length)\n",
        "  output = model.predict(x)\n",
        "  return output"
      ],
      "metadata": {
        "id": "Q3lX3Uws5sM5"
      },
      "execution_count": null,
      "outputs": []
    },
    {
      "cell_type": "code",
      "source": [
        "text = \"show me flights from boston to pittsburgh\"\n",
        "#predictions= reg.predict(x) \n",
        "pred = predictions(text)\n",
        "get_final_output(pred, unique_intent)"
      ],
      "metadata": {
        "id": "uH7FSoyR5RV4",
        "outputId": "f2db25e2-85b9-4b3f-db8e-18e61749e89c",
        "colab": {
          "base_uri": "https://localhost:8080/"
        }
      },
      "execution_count": null,
      "outputs": [
        {
          "output_type": "stream",
          "name": "stdout",
          "text": [
            "['show', 'me', 'flights', 'from', 'boston', 'to', 'pittsburgh']\n",
            "atis_flight has confidence = 0.99981374\n",
            "atis_airfare has confidence = 0.00011415726\n",
            "atis_ground_service has confidence = 3.081783e-05\n",
            "atis_airline has confidence = 1.3616066e-05\n",
            "atis_aircraft has confidence = 1.3171921e-05\n",
            "atis_flight_time has confidence = 8.646293e-06\n",
            "atis_quantity has confidence = 3.444214e-06\n",
            "atis_abbreviation has confidence = 2.3696807e-06\n"
          ]
        }
      ]
    }
  ]
}