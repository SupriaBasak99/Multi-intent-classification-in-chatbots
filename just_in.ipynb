{
  "nbformat": 4,
  "nbformat_minor": 0,
  "metadata": {
    "colab": {
      "provenance": [],
      "include_colab_link": true
    },
    "kernelspec": {
      "name": "python3",
      "display_name": "Python 3"
    },
    "language_info": {
      "name": "python"
    }
  },
  "cells": [
    {
      "cell_type": "markdown",
      "metadata": {
        "id": "view-in-github",
        "colab_type": "text"
      },
      "source": [
        "<a href=\"https://colab.research.google.com/github/SupriaBasak99/Multi-intent-classification-in-chatbots/blob/main/just_in.ipynb\" target=\"_parent\"><img src=\"https://colab.research.google.com/assets/colab-badge.svg\" alt=\"Open In Colab\"/></a>"
      ]
    },
    {
      "cell_type": "code",
      "execution_count": null,
      "metadata": {
        "id": "BfatsuYaacu7"
      },
      "outputs": [],
      "source": [
        "import numpy as np\n",
        "import pandas as pd\n",
        "import matplotlib.pyplot as plt\n",
        "\n",
        "from nltk.corpus import stopwords\n",
        "from nltk.tokenize import word_tokenize\n",
        "from nltk.stem.lancaster import LancasterStemmer#ip\n",
        "import nltk\n",
        "import re\n",
        "from sklearn.preprocessing import OneHotEncoder\n",
        "import matplotlib.pyplot as plt\n",
        "from keras.preprocessing.text import Tokenizer\n",
        "from keras.preprocessing.sequence import pad_sequences\n",
        "from keras.utils.np_utils import to_categorical\n",
        "from keras.models import Sequential, load_model\n",
        "from keras.layers import Dense, LSTM, Bidirectional, Embedding, Dropout, SimpleRNN, GRU\n",
        "from keras.callbacks import ModelCheckpoint"
      ]
    },
    {
      "cell_type": "code",
      "source": [
        "from sklearn.model_selection import train_test_split\n",
        "#from sklearn.naive_bayes import GaussianNB\n",
        "from sklearn.metrics import accuracy_score, roc_auc_score, f1_score"
      ],
      "metadata": {
        "id": "wr4ARIbDao7U"
      },
      "execution_count": null,
      "outputs": []
    },
    {
      "cell_type": "code",
      "source": [
        "def load_dataset(filename):\n",
        "  df = pd.read_csv(filename, encoding = \"latin1\", names = [\"Intent\", \"Sentence\"])\n",
        "  print(df.head())\n",
        "  intent = df[\"Intent\"]\n",
        "  unique_intent = list(set(intent))\n",
        "  sentences = list(df[\"Sentence\"])\n",
        "  \n",
        "  return (intent, unique_intent, sentences)"
      ],
      "metadata": {
        "id": "icEouvJDaptz"
      },
      "execution_count": null,
      "outputs": []
    },
    {
      "cell_type": "code",
      "source": [
        "intent, unique_intent, sentences = load_dataset(\"/content/atis_intents_train.csv\")"
      ],
      "metadata": {
        "colab": {
          "base_uri": "https://localhost:8080/"
        },
        "id": "82a2WukQayn9",
        "outputId": "c6eff260-6cae-43aa-b008-530af6b896dc"
      },
      "execution_count": null,
      "outputs": [
        {
          "output_type": "stream",
          "name": "stdout",
          "text": [
            "             Intent                                           Sentence\n",
            "0       atis_flight                                             tokens\n",
            "1       atis_flight   what flights are available from pittsburgh to...\n",
            "2  atis_flight_time   what is the arrival time in san francisco for...\n",
            "3      atis_airfare            cheapest airfare from tacoma to orlando\n",
            "4      atis_airfare   round trip fares from pittsburgh to philadelp...\n"
          ]
        }
      ]
    },
    {
      "cell_type": "code",
      "source": [
        "import nltk\n",
        "nltk.download('punkt')\n",
        "nltk.download('stopwords')"
      ],
      "metadata": {
        "colab": {
          "base_uri": "https://localhost:8080/"
        },
        "id": "yr3v3PFVbTJO",
        "outputId": "248b7a45-0d3d-4ada-de24-ce3344faac65"
      },
      "execution_count": null,
      "outputs": [
        {
          "output_type": "stream",
          "name": "stdout",
          "text": [
            "[nltk_data] Downloading package punkt to /root/nltk_data...\n",
            "[nltk_data]   Unzipping tokenizers/punkt.zip.\n",
            "[nltk_data] Downloading package stopwords to /root/nltk_data...\n",
            "[nltk_data]   Unzipping corpora/stopwords.zip.\n"
          ]
        },
        {
          "output_type": "execute_result",
          "data": {
            "text/plain": [
              "True"
            ]
          },
          "metadata": {},
          "execution_count": 7
        }
      ]
    },
    {
      "cell_type": "code",
      "source": [
        "def cleaning(sentences):\n",
        "  words = []\n",
        "  for s in sentences:\n",
        "    clean = re.sub(r'[^ a-z A-Z 0-9]', \" \", s)\n",
        "    w = word_tokenize(clean)\n",
        "    #stemming\n",
        "    words.append([i.lower() for i in w])\n",
        "    \n",
        "  return words "
      ],
      "metadata": {
        "id": "X5n3r_6ebAgX"
      },
      "execution_count": null,
      "outputs": []
    },
    {
      "cell_type": "code",
      "source": [
        "cleaned_words = cleaning(sentences)\n",
        "print(len(cleaned_words))\n",
        "print(cleaned_words[1])  "
      ],
      "metadata": {
        "colab": {
          "base_uri": "https://localhost:8080/"
        },
        "id": "c4kLKoSVbKvY",
        "outputId": "ad7501cb-1bc8-49c8-9417-65c2109d4eea"
      },
      "execution_count": null,
      "outputs": [
        {
          "output_type": "stream",
          "name": "stdout",
          "text": [
            "4834\n",
            "['what', 'flights', 'are', 'available', 'from', 'pittsburgh', 'to', 'baltimore', 'on', 'thursday', 'morning']\n"
          ]
        }
      ]
    },
    {
      "cell_type": "code",
      "source": [
        "def create_tokenizer(words, filters = '!\"#$%&()*+,-./:;<=>?@[\\]^_`{|}~'):\n",
        "  token = Tokenizer(filters = filters)\n",
        "  token.fit_on_texts(words)\n",
        "  return token"
      ],
      "metadata": {
        "id": "hpLOIwAggFqs"
      },
      "execution_count": null,
      "outputs": []
    },
    {
      "cell_type": "code",
      "source": [
        "def max_length(words):\n",
        "  return(len(max(words, key = len)))"
      ],
      "metadata": {
        "id": "jhnVekivgNdo"
      },
      "execution_count": null,
      "outputs": []
    },
    {
      "cell_type": "code",
      "source": [
        "word_tokenizer = create_tokenizer(cleaned_words)\n",
        "word_index=word_tokenizer.word_index\n",
        "vocab_size = len(word_tokenizer.word_index) + 1\n",
        "max_length = max_length(cleaned_words)\n",
        "\n",
        "print(\"Vocab Size = %d and Maximum length = %d\" % (vocab_size, max_length))"
      ],
      "metadata": {
        "colab": {
          "base_uri": "https://localhost:8080/"
        },
        "id": "nHqG0sHAgQBU",
        "outputId": "f4d705ba-a0d5-4c33-c2bf-e5fdd14a1216"
      },
      "execution_count": null,
      "outputs": [
        {
          "output_type": "stream",
          "name": "stdout",
          "text": [
            "Vocab Size = 862 and Maximum length = 48\n"
          ]
        }
      ]
    },
    {
      "cell_type": "code",
      "source": [
        "def encoding_doc(token, words):\n",
        "  return(token.texts_to_sequences(words))"
      ],
      "metadata": {
        "id": "d8jdzC3_gUMI"
      },
      "execution_count": null,
      "outputs": []
    },
    {
      "cell_type": "markdown",
      "source": [],
      "metadata": {
        "id": "f4Mx-pIzsDsV"
      }
    },
    {
      "cell_type": "code",
      "source": [
        "encoded_doc = encoding_doc(word_tokenizer, cleaned_words)"
      ],
      "metadata": {
        "id": "8aCmipKDgWrS"
      },
      "execution_count": null,
      "outputs": []
    },
    {
      "cell_type": "code",
      "source": [
        "def padding_doc(encoded_doc, max_length):\n",
        "  return(pad_sequences(encoded_doc, maxlen = max_length, padding = \"post\"))"
      ],
      "metadata": {
        "id": "jw-M1Yo9gZqC"
      },
      "execution_count": null,
      "outputs": []
    },
    {
      "cell_type": "code",
      "source": [
        "padded_doc = padding_doc(encoded_doc, max_length)"
      ],
      "metadata": {
        "id": "DhYlFYvWgcKx"
      },
      "execution_count": null,
      "outputs": []
    },
    {
      "cell_type": "code",
      "source": [
        "output_tokenizer = create_tokenizer(unique_intent, filters = '!\"#$%&()*+,-/:;<=>?@[\\]^`{|}~')"
      ],
      "metadata": {
        "id": "7AYL5PHYgehy"
      },
      "execution_count": null,
      "outputs": []
    },
    {
      "cell_type": "code",
      "source": [
        "output_tokenizer.word_index"
      ],
      "metadata": {
        "colab": {
          "base_uri": "https://localhost:8080/"
        },
        "id": "2AwKYRMSgj1p",
        "outputId": "a950706a-4d35-4109-bcbe-bfdf037fbccf"
      },
      "execution_count": null,
      "outputs": [
        {
          "output_type": "execute_result",
          "data": {
            "text/plain": [
              "{'atis_abbreviation': 6,\n",
              " 'atis_aircraft': 4,\n",
              " 'atis_airfare': 8,\n",
              " 'atis_airline': 5,\n",
              " 'atis_flight': 7,\n",
              " 'atis_flight_time': 2,\n",
              " 'atis_ground_service': 9,\n",
              " 'atis_quantity': 3,\n",
              " 'intent': 1}"
            ]
          },
          "metadata": {},
          "execution_count": 21
        }
      ]
    },
    {
      "cell_type": "code",
      "source": [
        "encoded_output = encoding_doc(output_tokenizer, intent)"
      ],
      "metadata": {
        "id": "6jrh5GylgmZB"
      },
      "execution_count": null,
      "outputs": []
    },
    {
      "cell_type": "code",
      "source": [
        "encoded_output = np.array(encoded_output).reshape(len(encoded_output), 1)"
      ],
      "metadata": {
        "id": "MK4ayB54gqVy"
      },
      "execution_count": null,
      "outputs": []
    },
    {
      "cell_type": "code",
      "source": [
        "encoded_output[:5]"
      ],
      "metadata": {
        "colab": {
          "base_uri": "https://localhost:8080/"
        },
        "id": "97T8Y4CJgsV_",
        "outputId": "fcf66f8e-b158-4058-d61b-62929c22bf14"
      },
      "execution_count": null,
      "outputs": [
        {
          "output_type": "execute_result",
          "data": {
            "text/plain": [
              "array([[1],\n",
              "       [7],\n",
              "       [2],\n",
              "       [8],\n",
              "       [8]])"
            ]
          },
          "metadata": {},
          "execution_count": 24
        }
      ]
    },
    {
      "cell_type": "code",
      "source": [
        "def one_hot(encode):\n",
        "  o = OneHotEncoder(sparse = False)\n",
        "  return(o.fit_transform(encode))"
      ],
      "metadata": {
        "id": "FYMKzWQTgucO"
      },
      "execution_count": null,
      "outputs": []
    },
    {
      "cell_type": "code",
      "source": [
        "output_one_hot = one_hot(encoded_output)"
      ],
      "metadata": {
        "id": "-bZTxgLQgxZY"
      },
      "execution_count": null,
      "outputs": []
    },
    {
      "cell_type": "code",
      "source": [
        "from sklearn.model_selection import train_test_split\n",
        "train_X, val_X, train_Y, val_Y = train_test_split(padded_doc, output_one_hot, shuffle = True, test_size = 0.2)\n",
        "print(\"Shape of train_X = %s and train_Y = %s\" % (train_X.shape, train_Y.shape))\n",
        "print(\"Shape of val_X = %s and val_Y = %s\" % (val_X.shape, val_Y.shape))"
      ],
      "metadata": {
        "colab": {
          "base_uri": "https://localhost:8080/"
        },
        "id": "eWsXFLr2gz4Y",
        "outputId": "c4e0c56d-517b-4393-8f90-e91ab4b035f6"
      },
      "execution_count": null,
      "outputs": [
        {
          "output_type": "stream",
          "name": "stdout",
          "text": [
            "Shape of train_X = (3867, 48) and train_Y = (3867, 9)\n",
            "Shape of val_X = (967, 48) and val_Y = (967, 9)\n"
          ]
        }
      ]
    },
    {
      "cell_type": "code",
      "source": [
        "from keras.initializers import Constant\n",
        "def create_model_bilstm(vocab_size, max_length):\n",
        "  model = Sequential()\n",
        "  #model.add(Embedding(vocab_size, embedded_dim, embeddings_initializer=Constant(embedded_matrix),input_length = max_length, trainable = False))\n",
        "  #model.add(Embedding(vocab_size, embedded_dim, input_length = max_length, weights=[embedding_matrix],trainable = False))\n",
        "  model.add(Embedding(vocab_size, 128,input_length = max_length, trainable = True))\n",
        "  model.add(Bidirectional(LSTM(128)))\n",
        "  model.add(Dense(32, activation = \"relu\"))\n",
        "  model.add(Dropout(0.5))\n",
        "  model.add(Dense(9, activation = \"softmax\"))  \n",
        "  return model"
      ],
      "metadata": {
        "id": "SeM8-5K4g23w"
      },
      "execution_count": null,
      "outputs": []
    },
    {
      "cell_type": "code",
      "source": [
        "import tensorflow as tf\n",
        "tf.keras.layers.Embedding"
      ],
      "metadata": {
        "id": "QxZPGWNahnt2"
      },
      "execution_count": null,
      "outputs": []
    },
    {
      "cell_type": "code",
      "source": [
        "def create_model_gru(vocab_size, max_length):\n",
        "  model = Sequential()\n",
        "  #model.add(Embedding(vocab_size, embedded_dim,embeddings_initializer=Constant(embedded_matrix), input_length = max_length, trainable = False))\n",
        "  model.add(Embedding(vocab_size, 128,input_length = max_length, trainable = True))\n",
        "  model.add(GRU(128))\n",
        "  model.add(Dense(32, activation = \"relu\"))\n",
        "  model.add(Dropout(0.5))\n",
        "  model.add(Dense(9, activation = \"softmax\"))\n",
        "  \n",
        "  return model"
      ],
      "metadata": {
        "id": "k3kEO6u6g6v_"
      },
      "execution_count": null,
      "outputs": []
    },
    {
      "cell_type": "code",
      "source": [
        "model = create_model_gru(vocab_size, max_length)\n",
        "\n",
        "model.compile(loss = \"categorical_crossentropy\", optimizer = \"adam\", metrics = [\"accuracy\"])\n",
        "model.summary()"
      ],
      "metadata": {
        "colab": {
          "base_uri": "https://localhost:8080/"
        },
        "id": "eom9H7w0hqs2",
        "outputId": "4df4df26-6d47-433c-b1ab-867115d0929f"
      },
      "execution_count": null,
      "outputs": [
        {
          "output_type": "stream",
          "name": "stdout",
          "text": [
            "Model: \"sequential_1\"\n",
            "_________________________________________________________________\n",
            " Layer (type)                Output Shape              Param #   \n",
            "=================================================================\n",
            " embedding_1 (Embedding)     (None, 48, 128)           110336    \n",
            "                                                                 \n",
            " gru_1 (GRU)                 (None, 128)               99072     \n",
            "                                                                 \n",
            " dense_2 (Dense)             (None, 32)                4128      \n",
            "                                                                 \n",
            " dropout_1 (Dropout)         (None, 32)                0         \n",
            "                                                                 \n",
            " dense_3 (Dense)             (None, 9)                 297       \n",
            "                                                                 \n",
            "=================================================================\n",
            "Total params: 213,833\n",
            "Trainable params: 213,833\n",
            "Non-trainable params: 0\n",
            "_________________________________________________________________\n"
          ]
        }
      ]
    },
    {
      "cell_type": "code",
      "source": [
        "filename = 'model.h5'\n",
        "checkpoint = ModelCheckpoint(filename, monitor='val_loss', verbose=1, save_best_only=True, mode='min')\n",
        "\n",
        "history = model.fit(train_X, train_Y, epochs = 5, batch_size = 128, validation_data = (val_X, val_Y), callbacks = [checkpoint])\n",
        "print(history.history.keys())\n",
        "\n",
        "# summarize history for accuracy\n",
        "model_name = \"lstm\"\n",
        "plt.plot(history.history['accuracy'])\n",
        "plt.plot(history.history['val_accuracy'])\n",
        "plt.title('Model Accuracy')\n",
        "plt.ylabel('accuracy')\n",
        "plt.xlabel('epoch')\n",
        "plt.legend(['train', 'test'], loc='upper left')\n",
        "plt.savefig(model_name + '_accuracy.png')\n",
        "plt.show()\n",
        "# summarize history for loss\n",
        "plt.plot(history.history['loss'])\n",
        "plt.plot(history.history['val_loss'])\n",
        "plt.title('Model Loss')\n",
        "plt.ylabel('loss')\n",
        "plt.xlabel('epoch')\n",
        "plt.legend(['train', 'test'], loc='upper left')\n",
        "plt.savefig(model_name + '_loss.png')\n",
        "plt.show()"
      ],
      "metadata": {
        "colab": {
          "base_uri": "https://localhost:8080/",
          "height": 957
        },
        "id": "CyT7NFA9jRnk",
        "outputId": "a0db0c92-4887-4bb3-a3b9-82d51aac9e8c"
      },
      "execution_count": null,
      "outputs": [
        {
          "output_type": "stream",
          "name": "stdout",
          "text": [
            "Epoch 1/5\n",
            "31/31 [==============================] - ETA: 0s - loss: 1.5427 - accuracy: 0.7065\n",
            "Epoch 1: val_loss improved from inf to 1.03873, saving model to model.h5\n",
            "31/31 [==============================] - 12s 212ms/step - loss: 1.5427 - accuracy: 0.7065 - val_loss: 1.0387 - val_accuracy: 0.7797\n",
            "Epoch 2/5\n",
            "31/31 [==============================] - ETA: 0s - loss: 1.2084 - accuracy: 0.7448\n",
            "Epoch 2: val_loss improved from 1.03873 to 0.94433, saving model to model.h5\n",
            "31/31 [==============================] - 5s 160ms/step - loss: 1.2084 - accuracy: 0.7448 - val_loss: 0.9443 - val_accuracy: 0.7797\n",
            "Epoch 3/5\n",
            "31/31 [==============================] - ETA: 0s - loss: 1.1694 - accuracy: 0.7484\n",
            "Epoch 3: val_loss did not improve from 0.94433\n",
            "31/31 [==============================] - 5s 157ms/step - loss: 1.1694 - accuracy: 0.7484 - val_loss: 0.9482 - val_accuracy: 0.7797\n",
            "Epoch 4/5\n",
            "31/31 [==============================] - ETA: 0s - loss: 1.1340 - accuracy: 0.7499\n",
            "Epoch 4: val_loss improved from 0.94433 to 0.94214, saving model to model.h5\n",
            "31/31 [==============================] - 5s 158ms/step - loss: 1.1340 - accuracy: 0.7499 - val_loss: 0.9421 - val_accuracy: 0.7797\n",
            "Epoch 5/5\n",
            "31/31 [==============================] - ETA: 0s - loss: 1.1263 - accuracy: 0.7512\n",
            "Epoch 5: val_loss improved from 0.94214 to 0.91701, saving model to model.h5\n",
            "31/31 [==============================] - 5s 158ms/step - loss: 1.1263 - accuracy: 0.7512 - val_loss: 0.9170 - val_accuracy: 0.7797\n",
            "dict_keys(['loss', 'accuracy', 'val_loss', 'val_accuracy'])\n"
          ]
        },
        {
          "output_type": "display_data",
          "data": {
            "text/plain": [
              "<Figure size 432x288 with 1 Axes>"
            ],
            "image/png": "[encoded data removed]"
          },
          "metadata": {
            "needs_background": "light"
          }
        },
        {
          "output_type": "display_data",
          "data": {
            "text/plain": [
              "<Figure size 432x288 with 1 Axes>"
            ],
            "image/png": "[encoded data removed]"
          },
          "metadata": {
            "needs_background": "light"
          }
        }
      ]
    },
    {
      "cell_type": "code",
      "source": [
        "preds = model.predict(val_X)\n",
        "\n",
        "score = accuracy_score(np.argmax(val_Y, axis = 1), np.argmax(preds, axis=1))\n",
        "print(\"Accuracy: \", score)\n",
        "f1 = f1_score(np.argmax(val_Y, axis = 1), np.argmax(preds, axis=1), average='macro')\n",
        "print(\"Macro F1 Score:\", f1)\n",
        "f1 = f1_score(np.argmax(val_Y, axis = 1), np.argmax(preds, axis=1), average='micro')\n",
        "print(\"Micro F1 Score:\", f1)\n",
        "f1 = f1_score(np.argmax(val_Y, axis = 1), np.argmax(preds, axis=1), average='weighted')\n",
        "print(\"Weighted F1 Score:\", f1, \"\\n\")\n",
        "# precis = precision_score(np.argmax(val_Y, axis = 1), np.argmax(preds, axis=1),average= 'weighted')\n",
        "# print(\"Precision:\", precis)\n",
        "# recal = recall_score(np.argmax(val_Y, axis = 1), np.argmax(preds, axis=1),average='weighted')\n",
        "# print(\"Recall:\", recal, \"\\n\")"
      ],
      "metadata": {
        "colab": {
          "base_uri": "https://localhost:8080/"
        },
        "id": "ctHtU0rSjXmD",
        "outputId": "acc1cb35-b3cc-4241-c2ae-c46feeb559bf"
      },
      "execution_count": null,
      "outputs": [
        {
          "output_type": "stream",
          "name": "stdout",
          "text": [
            "Accuracy:  0.7797311271975181\n",
            "Macro F1 Score: 0.10952934340499709\n",
            "Micro F1 Score: 0.7797311271975181\n",
            "Weighted F1 Score: 0.6832275071550595 \n",
            "\n"
          ]
        }
      ]
    },
    {
      "cell_type": "code",
      "source": [],
      "metadata": {
        "id": "gbiuMYeljqDl"
      },
      "execution_count": null,
      "outputs": []
    }
  ]
}